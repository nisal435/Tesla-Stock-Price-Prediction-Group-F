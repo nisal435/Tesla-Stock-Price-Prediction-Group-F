{
 "cells": [
  {
   "cell_type": "code",
   "execution_count": 2,
   "metadata": {},
   "outputs": [
    {
     "name": "stdout",
     "output_type": "stream",
     "text": [
      "Requirement already satisfied: pandas_datareader in c:\\users\\malavi\\appdata\\local\\programs\\python\\python311\\lib\\site-packages (0.10.0)\n",
      "Requirement already satisfied: lxml in c:\\users\\malavi\\appdata\\local\\programs\\python\\python311\\lib\\site-packages (from pandas_datareader) (5.2.1)\n",
      "Requirement already satisfied: pandas>=0.23 in c:\\users\\malavi\\appdata\\local\\programs\\python\\python311\\lib\\site-packages (from pandas_datareader) (2.2.2)\n",
      "Requirement already satisfied: requests>=2.19.0 in c:\\users\\malavi\\appdata\\local\\programs\\python\\python311\\lib\\site-packages (from pandas_datareader) (2.31.0)\n",
      "Requirement already satisfied: numpy>=1.23.2 in c:\\users\\malavi\\appdata\\local\\programs\\python\\python311\\lib\\site-packages (from pandas>=0.23->pandas_datareader) (1.26.4)\n",
      "Requirement already satisfied: python-dateutil>=2.8.2 in c:\\users\\malavi\\appdata\\roaming\\python\\python311\\site-packages (from pandas>=0.23->pandas_datareader) (2.8.2)\n",
      "Requirement already satisfied: pytz>=2020.1 in c:\\users\\malavi\\appdata\\local\\programs\\python\\python311\\lib\\site-packages (from pandas>=0.23->pandas_datareader) (2024.1)\n",
      "Requirement already satisfied: tzdata>=2022.7 in c:\\users\\malavi\\appdata\\local\\programs\\python\\python311\\lib\\site-packages (from pandas>=0.23->pandas_datareader) (2024.1)\n",
      "Requirement already satisfied: charset-normalizer<4,>=2 in c:\\users\\malavi\\appdata\\local\\programs\\python\\python311\\lib\\site-packages (from requests>=2.19.0->pandas_datareader) (3.3.2)\n",
      "Requirement already satisfied: idna<4,>=2.5 in c:\\users\\malavi\\appdata\\local\\programs\\python\\python311\\lib\\site-packages (from requests>=2.19.0->pandas_datareader) (3.6)\n",
      "Requirement already satisfied: urllib3<3,>=1.21.1 in c:\\users\\malavi\\appdata\\local\\programs\\python\\python311\\lib\\site-packages (from requests>=2.19.0->pandas_datareader) (2.2.1)\n",
      "Requirement already satisfied: certifi>=2017.4.17 in c:\\users\\malavi\\appdata\\local\\programs\\python\\python311\\lib\\site-packages (from requests>=2.19.0->pandas_datareader) (2024.2.2)\n",
      "Requirement already satisfied: six>=1.5 in c:\\users\\malavi\\appdata\\roaming\\python\\python311\\site-packages (from python-dateutil>=2.8.2->pandas>=0.23->pandas_datareader) (1.16.0)\n",
      "Note: you may need to restart the kernel to use updated packages.\n"
     ]
    },
    {
     "name": "stderr",
     "output_type": "stream",
     "text": [
      "\n",
      "[notice] A new release of pip is available: 23.1.2 -> 24.0\n",
      "[notice] To update, run: python.exe -m pip install --upgrade pip\n"
     ]
    },
    {
     "name": "stdout",
     "output_type": "stream",
     "text": [
      "Note: you may need to restart the kernel to use updated packages.\n",
      "Requirement already satisfied: scikit-learn in c:\\users\\malavi\\appdata\\local\\programs\\python\\python311\\lib\\site-packages (1.4.2)\n",
      "Requirement already satisfied: numpy>=1.19.5 in c:\\users\\malavi\\appdata\\local\\programs\\python\\python311\\lib\\site-packages (from scikit-learn) (1.26.4)\n",
      "Requirement already satisfied: scipy>=1.6.0 in c:\\users\\malavi\\appdata\\local\\programs\\python\\python311\\lib\\site-packages (from scikit-learn) (1.13.0)\n",
      "Requirement already satisfied: joblib>=1.2.0 in c:\\users\\malavi\\appdata\\local\\programs\\python\\python311\\lib\\site-packages (from scikit-learn) (1.4.0)\n",
      "Requirement already satisfied: threadpoolctl>=2.0.0 in c:\\users\\malavi\\appdata\\local\\programs\\python\\python311\\lib\\site-packages (from scikit-learn) (3.4.0)\n"
     ]
    },
    {
     "name": "stderr",
     "output_type": "stream",
     "text": [
      "\n",
      "[notice] A new release of pip is available: 23.1.2 -> 24.0\n",
      "[notice] To update, run: python.exe -m pip install --upgrade pip\n"
     ]
    }
   ],
   "source": [
    "# discription: this program uses an artificial recurrent neural network \n",
    "#              called lstm to predict the closing stock price of a corporation(tesla) using past years stock price.\n",
    "%pip install pandas_datareader\n",
    "%pip install scikit-learn\n",
    "\n",
    "\n"
   ]
  },
  {
   "cell_type": "code",
   "execution_count": 3,
   "metadata": {},
   "outputs": [
    {
     "name": "stdout",
     "output_type": "stream",
     "text": [
      "Requirement already satisfied: keras in c:\\users\\malavi\\appdata\\local\\programs\\python\\python311\\lib\\site-packages (3.2.1)\n",
      "Requirement already satisfied: absl-py in c:\\users\\malavi\\appdata\\local\\programs\\python\\python311\\lib\\site-packages (from keras) (2.1.0)\n",
      "Requirement already satisfied: numpy in c:\\users\\malavi\\appdata\\local\\programs\\python\\python311\\lib\\site-packages (from keras) (1.26.4)\n",
      "Requirement already satisfied: rich in c:\\users\\malavi\\appdata\\local\\programs\\python\\python311\\lib\\site-packages (from keras) (13.7.1)\n",
      "Requirement already satisfied: namex in c:\\users\\malavi\\appdata\\local\\programs\\python\\python311\\lib\\site-packages (from keras) (0.0.7)\n",
      "Requirement already satisfied: h5py in c:\\users\\malavi\\appdata\\local\\programs\\python\\python311\\lib\\site-packages (from keras) (3.11.0)\n",
      "Requirement already satisfied: optree in c:\\users\\malavi\\appdata\\local\\programs\\python\\python311\\lib\\site-packages (from keras) (0.11.0)\n",
      "Requirement already satisfied: ml-dtypes in c:\\users\\malavi\\appdata\\local\\programs\\python\\python311\\lib\\site-packages (from keras) (0.3.2)\n",
      "Requirement already satisfied: typing-extensions>=4.0.0 in c:\\users\\malavi\\appdata\\local\\programs\\python\\python311\\lib\\site-packages (from optree->keras) (4.11.0)\n",
      "Requirement already satisfied: markdown-it-py>=2.2.0 in c:\\users\\malavi\\appdata\\local\\programs\\python\\python311\\lib\\site-packages (from rich->keras) (3.0.0)\n",
      "Requirement already satisfied: pygments<3.0.0,>=2.13.0 in c:\\users\\malavi\\appdata\\roaming\\python\\python311\\site-packages (from rich->keras) (2.17.2)\n",
      "Requirement already satisfied: mdurl~=0.1 in c:\\users\\malavi\\appdata\\local\\programs\\python\\python311\\lib\\site-packages (from markdown-it-py>=2.2.0->rich->keras) (0.1.2)\n",
      "Note: you may need to restart the kernel to use updated packages.\n"
     ]
    },
    {
     "name": "stderr",
     "output_type": "stream",
     "text": [
      "\n",
      "[notice] A new release of pip is available: 23.1.2 -> 24.0\n",
      "[notice] To update, run: python.exe -m pip install --upgrade pip\n"
     ]
    }
   ],
   "source": [
    "%pip install keras\n"
   ]
  },
  {
   "cell_type": "code",
   "execution_count": 4,
   "metadata": {},
   "outputs": [
    {
     "name": "stdout",
     "output_type": "stream",
     "text": [
      "Requirement already satisfied: tensorflow in c:\\users\\malavi\\appdata\\local\\programs\\python\\python311\\lib\\site-packages (2.16.1)\n",
      "Requirement already satisfied: tensorflow-intel==2.16.1 in c:\\users\\malavi\\appdata\\local\\programs\\python\\python311\\lib\\site-packages (from tensorflow) (2.16.1)\n",
      "Requirement already satisfied: absl-py>=1.0.0 in c:\\users\\malavi\\appdata\\local\\programs\\python\\python311\\lib\\site-packages (from tensorflow-intel==2.16.1->tensorflow) (2.1.0)\n",
      "Requirement already satisfied: astunparse>=1.6.0 in c:\\users\\malavi\\appdata\\local\\programs\\python\\python311\\lib\\site-packages (from tensorflow-intel==2.16.1->tensorflow) (1.6.3)\n",
      "Requirement already satisfied: flatbuffers>=23.5.26 in c:\\users\\malavi\\appdata\\local\\programs\\python\\python311\\lib\\site-packages (from tensorflow-intel==2.16.1->tensorflow) (24.3.25)\n",
      "Requirement already satisfied: gast!=0.5.0,!=0.5.1,!=0.5.2,>=0.2.1 in c:\\users\\malavi\\appdata\\local\\programs\\python\\python311\\lib\\site-packages (from tensorflow-intel==2.16.1->tensorflow) (0.5.4)\n",
      "Requirement already satisfied: google-pasta>=0.1.1 in c:\\users\\malavi\\appdata\\local\\programs\\python\\python311\\lib\\site-packages (from tensorflow-intel==2.16.1->tensorflow) (0.2.0)\n",
      "Requirement already satisfied: h5py>=3.10.0 in c:\\users\\malavi\\appdata\\local\\programs\\python\\python311\\lib\\site-packages (from tensorflow-intel==2.16.1->tensorflow) (3.11.0)\n",
      "Requirement already satisfied: libclang>=13.0.0 in c:\\users\\malavi\\appdata\\local\\programs\\python\\python311\\lib\\site-packages (from tensorflow-intel==2.16.1->tensorflow) (18.1.1)\n",
      "Requirement already satisfied: ml-dtypes~=0.3.1 in c:\\users\\malavi\\appdata\\local\\programs\\python\\python311\\lib\\site-packages (from tensorflow-intel==2.16.1->tensorflow) (0.3.2)\n",
      "Requirement already satisfied: opt-einsum>=2.3.2 in c:\\users\\malavi\\appdata\\local\\programs\\python\\python311\\lib\\site-packages (from tensorflow-intel==2.16.1->tensorflow) (3.3.0)\n",
      "Requirement already satisfied: packaging in c:\\users\\malavi\\appdata\\roaming\\python\\python311\\site-packages (from tensorflow-intel==2.16.1->tensorflow) (23.2)\n",
      "Requirement already satisfied: protobuf!=4.21.0,!=4.21.1,!=4.21.2,!=4.21.3,!=4.21.4,!=4.21.5,<5.0.0dev,>=3.20.3 in c:\\users\\malavi\\appdata\\local\\programs\\python\\python311\\lib\\site-packages (from tensorflow-intel==2.16.1->tensorflow) (4.25.3)\n",
      "Requirement already satisfied: requests<3,>=2.21.0 in c:\\users\\malavi\\appdata\\local\\programs\\python\\python311\\lib\\site-packages (from tensorflow-intel==2.16.1->tensorflow) (2.31.0)\n",
      "Requirement already satisfied: setuptools in c:\\users\\malavi\\appdata\\local\\programs\\python\\python311\\lib\\site-packages (from tensorflow-intel==2.16.1->tensorflow) (65.5.0)\n",
      "Requirement already satisfied: six>=1.12.0 in c:\\users\\malavi\\appdata\\roaming\\python\\python311\\site-packages (from tensorflow-intel==2.16.1->tensorflow) (1.16.0)\n",
      "Requirement already satisfied: termcolor>=1.1.0 in c:\\users\\malavi\\appdata\\local\\programs\\python\\python311\\lib\\site-packages (from tensorflow-intel==2.16.1->tensorflow) (2.4.0)\n",
      "Requirement already satisfied: typing-extensions>=3.6.6 in c:\\users\\malavi\\appdata\\local\\programs\\python\\python311\\lib\\site-packages (from tensorflow-intel==2.16.1->tensorflow) (4.11.0)\n",
      "Requirement already satisfied: wrapt>=1.11.0 in c:\\users\\malavi\\appdata\\local\\programs\\python\\python311\\lib\\site-packages (from tensorflow-intel==2.16.1->tensorflow) (1.16.0)\n",
      "Requirement already satisfied: grpcio<2.0,>=1.24.3 in c:\\users\\malavi\\appdata\\local\\programs\\python\\python311\\lib\\site-packages (from tensorflow-intel==2.16.1->tensorflow) (1.62.1)\n",
      "Requirement already satisfied: tensorboard<2.17,>=2.16 in c:\\users\\malavi\\appdata\\local\\programs\\python\\python311\\lib\\site-packages (from tensorflow-intel==2.16.1->tensorflow) (2.16.2)\n",
      "Requirement already satisfied: keras>=3.0.0 in c:\\users\\malavi\\appdata\\local\\programs\\python\\python311\\lib\\site-packages (from tensorflow-intel==2.16.1->tensorflow) (3.2.1)\n",
      "Requirement already satisfied: tensorflow-io-gcs-filesystem>=0.23.1 in c:\\users\\malavi\\appdata\\local\\programs\\python\\python311\\lib\\site-packages (from tensorflow-intel==2.16.1->tensorflow) (0.31.0)\n",
      "Requirement already satisfied: numpy<2.0.0,>=1.23.5 in c:\\users\\malavi\\appdata\\local\\programs\\python\\python311\\lib\\site-packages (from tensorflow-intel==2.16.1->tensorflow) (1.26.4)\n",
      "Requirement already satisfied: wheel<1.0,>=0.23.0 in c:\\users\\malavi\\appdata\\local\\programs\\python\\python311\\lib\\site-packages (from astunparse>=1.6.0->tensorflow-intel==2.16.1->tensorflow) (0.43.0)\n",
      "Requirement already satisfied: rich in c:\\users\\malavi\\appdata\\local\\programs\\python\\python311\\lib\\site-packages (from keras>=3.0.0->tensorflow-intel==2.16.1->tensorflow) (13.7.1)\n",
      "Requirement already satisfied: namex in c:\\users\\malavi\\appdata\\local\\programs\\python\\python311\\lib\\site-packages (from keras>=3.0.0->tensorflow-intel==2.16.1->tensorflow) (0.0.7)\n",
      "Requirement already satisfied: optree in c:\\users\\malavi\\appdata\\local\\programs\\python\\python311\\lib\\site-packages (from keras>=3.0.0->tensorflow-intel==2.16.1->tensorflow) (0.11.0)\n",
      "Requirement already satisfied: charset-normalizer<4,>=2 in c:\\users\\malavi\\appdata\\local\\programs\\python\\python311\\lib\\site-packages (from requests<3,>=2.21.0->tensorflow-intel==2.16.1->tensorflow) (3.3.2)\n",
      "Requirement already satisfied: idna<4,>=2.5 in c:\\users\\malavi\\appdata\\local\\programs\\python\\python311\\lib\\site-packages (from requests<3,>=2.21.0->tensorflow-intel==2.16.1->tensorflow) (3.6)\n",
      "Requirement already satisfied: urllib3<3,>=1.21.1 in c:\\users\\malavi\\appdata\\local\\programs\\python\\python311\\lib\\site-packages (from requests<3,>=2.21.0->tensorflow-intel==2.16.1->tensorflow) (2.2.1)\n",
      "Requirement already satisfied: certifi>=2017.4.17 in c:\\users\\malavi\\appdata\\local\\programs\\python\\python311\\lib\\site-packages (from requests<3,>=2.21.0->tensorflow-intel==2.16.1->tensorflow) (2024.2.2)\n",
      "Requirement already satisfied: markdown>=2.6.8 in c:\\users\\malavi\\appdata\\local\\programs\\python\\python311\\lib\\site-packages (from tensorboard<2.17,>=2.16->tensorflow-intel==2.16.1->tensorflow) (3.6)\n",
      "Requirement already satisfied: tensorboard-data-server<0.8.0,>=0.7.0 in c:\\users\\malavi\\appdata\\local\\programs\\python\\python311\\lib\\site-packages (from tensorboard<2.17,>=2.16->tensorflow-intel==2.16.1->tensorflow) (0.7.2)\n",
      "Requirement already satisfied: werkzeug>=1.0.1 in c:\\users\\malavi\\appdata\\local\\programs\\python\\python311\\lib\\site-packages (from tensorboard<2.17,>=2.16->tensorflow-intel==2.16.1->tensorflow) (3.0.2)\n",
      "Requirement already satisfied: MarkupSafe>=2.1.1 in c:\\users\\malavi\\appdata\\local\\programs\\python\\python311\\lib\\site-packages (from werkzeug>=1.0.1->tensorboard<2.17,>=2.16->tensorflow-intel==2.16.1->tensorflow) (2.1.5)\n",
      "Requirement already satisfied: markdown-it-py>=2.2.0 in c:\\users\\malavi\\appdata\\local\\programs\\python\\python311\\lib\\site-packages (from rich->keras>=3.0.0->tensorflow-intel==2.16.1->tensorflow) (3.0.0)\n",
      "Requirement already satisfied: pygments<3.0.0,>=2.13.0 in c:\\users\\malavi\\appdata\\roaming\\python\\python311\\site-packages (from rich->keras>=3.0.0->tensorflow-intel==2.16.1->tensorflow) (2.17.2)\n",
      "Requirement already satisfied: mdurl~=0.1 in c:\\users\\malavi\\appdata\\local\\programs\\python\\python311\\lib\\site-packages (from markdown-it-py>=2.2.0->rich->keras>=3.0.0->tensorflow-intel==2.16.1->tensorflow) (0.1.2)\n",
      "Note: you may need to restart the kernel to use updated packages.\n"
     ]
    },
    {
     "name": "stderr",
     "output_type": "stream",
     "text": [
      "\n",
      "[notice] A new release of pip is available: 23.1.2 -> 24.0\n",
      "[notice] To update, run: python.exe -m pip install --upgrade pip\n"
     ]
    }
   ],
   "source": [
    "%pip install tensorflow\n"
   ]
  },
  {
   "cell_type": "code",
   "execution_count": 5,
   "metadata": {},
   "outputs": [
    {
     "name": "stdout",
     "output_type": "stream",
     "text": [
      "Requirement already satisfied: matplotlib in c:\\users\\malavi\\appdata\\local\\programs\\python\\python311\\lib\\site-packages (3.8.4)\n",
      "Requirement already satisfied: contourpy>=1.0.1 in c:\\users\\malavi\\appdata\\local\\programs\\python\\python311\\lib\\site-packages (from matplotlib) (1.2.1)\n",
      "Requirement already satisfied: cycler>=0.10 in c:\\users\\malavi\\appdata\\local\\programs\\python\\python311\\lib\\site-packages (from matplotlib) (0.12.1)\n",
      "Requirement already satisfied: fonttools>=4.22.0 in c:\\users\\malavi\\appdata\\local\\programs\\python\\python311\\lib\\site-packages (from matplotlib) (4.51.0)\n",
      "Requirement already satisfied: kiwisolver>=1.3.1 in c:\\users\\malavi\\appdata\\local\\programs\\python\\python311\\lib\\site-packages (from matplotlib) (1.4.5)\n",
      "Requirement already satisfied: numpy>=1.21 in c:\\users\\malavi\\appdata\\local\\programs\\python\\python311\\lib\\site-packages (from matplotlib) (1.26.4)\n",
      "Requirement already satisfied: packaging>=20.0 in c:\\users\\malavi\\appdata\\roaming\\python\\python311\\site-packages (from matplotlib) (23.2)\n",
      "Requirement already satisfied: pillow>=8 in c:\\users\\malavi\\appdata\\local\\programs\\python\\python311\\lib\\site-packages (from matplotlib) (10.3.0)\n",
      "Requirement already satisfied: pyparsing>=2.3.1 in c:\\users\\malavi\\appdata\\local\\programs\\python\\python311\\lib\\site-packages (from matplotlib) (3.1.2)\n",
      "Requirement already satisfied: python-dateutil>=2.7 in c:\\users\\malavi\\appdata\\roaming\\python\\python311\\site-packages (from matplotlib) (2.8.2)\n",
      "Requirement already satisfied: six>=1.5 in c:\\users\\malavi\\appdata\\roaming\\python\\python311\\site-packages (from python-dateutil>=2.7->matplotlib) (1.16.0)\n",
      "Note: you may need to restart the kernel to use updated packages.\n"
     ]
    },
    {
     "name": "stderr",
     "output_type": "stream",
     "text": [
      "\n",
      "[notice] A new release of pip is available: 23.1.2 -> 24.0\n",
      "[notice] To update, run: python.exe -m pip install --upgrade pip\n"
     ]
    }
   ],
   "source": [
    "%pip install matplotlib\n"
   ]
  },
  {
   "cell_type": "code",
   "execution_count": 6,
   "metadata": {},
   "outputs": [],
   "source": [
    "#import the libraries \n",
    "import math\n",
    "import pandas_datareader as web\n",
    "import numpy as np\n",
    "import pandas as pd \n",
    "from sklearn.preprocessing import MinMaxScaler\n",
    "from keras.models import Sequential\n",
    "from keras.layers import Dense, LSTM\n",
    "import matplotlib.pyplot as plt\n",
    "plt.style.use('fivethirtyeight')\n"
   ]
  },
  {
   "cell_type": "code",
   "execution_count": 7,
   "metadata": {},
   "outputs": [
    {
     "name": "stdout",
     "output_type": "stream",
     "text": [
      "0.10.0\n"
     ]
    }
   ],
   "source": [
    "# Check the version of pandas_datareader\n",
    "import pandas_datareader as pdr\n",
    "print(pdr.__version__)\n"
   ]
  },
  {
   "cell_type": "code",
   "execution_count": 8,
   "metadata": {},
   "outputs": [
    {
     "name": "stdout",
     "output_type": "stream",
     "text": [
      "Requirement already satisfied: alpha_vantage in c:\\users\\malavi\\appdata\\local\\programs\\python\\python311\\lib\\site-packages (2.3.1)\n",
      "Requirement already satisfied: aiohttp in c:\\users\\malavi\\appdata\\local\\programs\\python\\python311\\lib\\site-packages (from alpha_vantage) (3.9.4)\n",
      "Requirement already satisfied: requests in c:\\users\\malavi\\appdata\\local\\programs\\python\\python311\\lib\\site-packages (from alpha_vantage) (2.31.0)\n",
      "Requirement already satisfied: aiosignal>=1.1.2 in c:\\users\\malavi\\appdata\\local\\programs\\python\\python311\\lib\\site-packages (from aiohttp->alpha_vantage) (1.3.1)\n",
      "Requirement already satisfied: attrs>=17.3.0 in c:\\users\\malavi\\appdata\\local\\programs\\python\\python311\\lib\\site-packages (from aiohttp->alpha_vantage) (23.2.0)\n",
      "Requirement already satisfied: frozenlist>=1.1.1 in c:\\users\\malavi\\appdata\\local\\programs\\python\\python311\\lib\\site-packages (from aiohttp->alpha_vantage) (1.4.1)\n",
      "Requirement already satisfied: multidict<7.0,>=4.5 in c:\\users\\malavi\\appdata\\local\\programs\\python\\python311\\lib\\site-packages (from aiohttp->alpha_vantage) (6.0.5)\n",
      "Requirement already satisfied: yarl<2.0,>=1.0 in c:\\users\\malavi\\appdata\\local\\programs\\python\\python311\\lib\\site-packages (from aiohttp->alpha_vantage) (1.9.4)\n",
      "Requirement already satisfied: charset-normalizer<4,>=2 in c:\\users\\malavi\\appdata\\local\\programs\\python\\python311\\lib\\site-packages (from requests->alpha_vantage) (3.3.2)\n",
      "Requirement already satisfied: idna<4,>=2.5 in c:\\users\\malavi\\appdata\\local\\programs\\python\\python311\\lib\\site-packages (from requests->alpha_vantage) (3.6)\n",
      "Requirement already satisfied: urllib3<3,>=1.21.1 in c:\\users\\malavi\\appdata\\local\\programs\\python\\python311\\lib\\site-packages (from requests->alpha_vantage) (2.2.1)\n",
      "Requirement already satisfied: certifi>=2017.4.17 in c:\\users\\malavi\\appdata\\local\\programs\\python\\python311\\lib\\site-packages (from requests->alpha_vantage) (2024.2.2)\n",
      "Note: you may need to restart the kernel to use updated packages.\n"
     ]
    },
    {
     "name": "stderr",
     "output_type": "stream",
     "text": [
      "\n",
      "[notice] A new release of pip is available: 23.1.2 -> 24.0\n",
      "[notice] To update, run: python.exe -m pip install --upgrade pip\n"
     ]
    }
   ],
   "source": [
    "%pip install alpha_vantage\n"
   ]
  },
  {
   "cell_type": "code",
   "execution_count": 9,
   "metadata": {},
   "outputs": [
    {
     "name": "stdout",
     "output_type": "stream",
     "text": [
      "            1. open   2. high    3. low  4. close    5. volume\n",
      "date                                                          \n",
      "2024-05-02   182.86  184.6000  176.0200    180.01   89148041.0\n",
      "2024-05-01   182.00  185.8600  179.0100    179.99   92829719.0\n",
      "2024-04-30   186.98  190.9500  182.8401    183.28  127031787.0\n",
      "2024-04-29   188.42  198.8700  184.5400    194.05  243869678.0\n",
      "2024-04-26   168.85  172.1200  166.3700    168.29  109815725.0\n",
      "...             ...       ...       ...       ...          ...\n",
      "2010-07-06    20.00   20.0000   15.8300     16.11    6866900.0\n",
      "2010-07-02    23.00   23.1000   18.7100     19.20    5139800.0\n",
      "2010-07-01    25.00   25.9200   20.2700     21.96    8218800.0\n",
      "2010-06-30    25.79   30.4192   23.3000     23.83   17187100.0\n",
      "2010-06-29    19.00   25.0000   17.5400     23.89   18766300.0\n",
      "\n",
      "[3485 rows x 5 columns]\n"
     ]
    }
   ],
   "source": [
    "# Example of fetching data from Alpha Vantage\n",
    "from alpha_vantage.timeseries import TimeSeries\n",
    "ts = TimeSeries(key='YOUR_API_KEY', output_format='pandas')\n",
    "data, meta_data = ts.get_daily(symbol='TSLA', outputsize='full')\n",
    "print(data)\n"
   ]
  },
  {
   "cell_type": "code",
   "execution_count": 10,
   "metadata": {},
   "outputs": [],
   "source": [
    "data.to_csv('TSLA.csv')"
   ]
  },
  {
   "cell_type": "code",
   "execution_count": 11,
   "metadata": {},
   "outputs": [
    {
     "name": "stdout",
     "output_type": "stream",
     "text": [
      "            1. open   2. high    3. low  4. close    5. volume\n",
      "date                                                          \n",
      "2024-05-02   182.86  184.6000  176.0200    180.01   89148041.0\n",
      "2024-05-01   182.00  185.8600  179.0100    179.99   92829719.0\n",
      "2024-04-30   186.98  190.9500  182.8401    183.28  127031787.0\n",
      "2024-04-29   188.42  198.8700  184.5400    194.05  243869678.0\n",
      "2024-04-26   168.85  172.1200  166.3700    168.29  109815725.0\n",
      "...             ...       ...       ...       ...          ...\n",
      "2010-07-06    20.00   20.0000   15.8300     16.11    6866900.0\n",
      "2010-07-02    23.00   23.1000   18.7100     19.20    5139800.0\n",
      "2010-07-01    25.00   25.9200   20.2700     21.96    8218800.0\n",
      "2010-06-30    25.79   30.4192   23.3000     23.83   17187100.0\n",
      "2010-06-29    19.00   25.0000   17.5400     23.89   18766300.0\n",
      "\n",
      "[3485 rows x 5 columns]\n"
     ]
    }
   ],
   "source": [
    "# Initialize TimeSeries with your API key\n",
    "ts = TimeSeries(key='YOUR_API_KEY', output_format='pandas')\n",
    "\n",
    "# Get daily stock data for TSLA\n",
    "data, meta_data = ts.get_daily(symbol='TSLA', outputsize='full')\n",
    "\n",
    "# Convert the fetched data into a DataFrame\n",
    "df = pd.DataFrame(data)\n",
    "\n",
    "# Print the DataFrame\n",
    "print(df)"
   ]
  },
  {
   "cell_type": "code",
   "execution_count": 12,
   "metadata": {},
   "outputs": [
    {
     "data": {
      "text/html": [
       "<div>\n",
       "<style scoped>\n",
       "    .dataframe tbody tr th:only-of-type {\n",
       "        vertical-align: middle;\n",
       "    }\n",
       "\n",
       "    .dataframe tbody tr th {\n",
       "        vertical-align: top;\n",
       "    }\n",
       "\n",
       "    .dataframe thead th {\n",
       "        text-align: right;\n",
       "    }\n",
       "</style>\n",
       "<table border=\"1\" class=\"dataframe\">\n",
       "  <thead>\n",
       "    <tr style=\"text-align: right;\">\n",
       "      <th></th>\n",
       "      <th>1. open</th>\n",
       "      <th>2. high</th>\n",
       "      <th>3. low</th>\n",
       "      <th>4. close</th>\n",
       "      <th>5. volume</th>\n",
       "    </tr>\n",
       "  </thead>\n",
       "  <tbody>\n",
       "    <tr>\n",
       "      <th>0</th>\n",
       "      <td>19.00</td>\n",
       "      <td>25.0000</td>\n",
       "      <td>17.5400</td>\n",
       "      <td>23.89</td>\n",
       "      <td>18766300.0</td>\n",
       "    </tr>\n",
       "    <tr>\n",
       "      <th>1</th>\n",
       "      <td>25.79</td>\n",
       "      <td>30.4192</td>\n",
       "      <td>23.3000</td>\n",
       "      <td>23.83</td>\n",
       "      <td>17187100.0</td>\n",
       "    </tr>\n",
       "    <tr>\n",
       "      <th>2</th>\n",
       "      <td>25.00</td>\n",
       "      <td>25.9200</td>\n",
       "      <td>20.2700</td>\n",
       "      <td>21.96</td>\n",
       "      <td>8218800.0</td>\n",
       "    </tr>\n",
       "    <tr>\n",
       "      <th>3</th>\n",
       "      <td>23.00</td>\n",
       "      <td>23.1000</td>\n",
       "      <td>18.7100</td>\n",
       "      <td>19.20</td>\n",
       "      <td>5139800.0</td>\n",
       "    </tr>\n",
       "    <tr>\n",
       "      <th>4</th>\n",
       "      <td>20.00</td>\n",
       "      <td>20.0000</td>\n",
       "      <td>15.8300</td>\n",
       "      <td>16.11</td>\n",
       "      <td>6866900.0</td>\n",
       "    </tr>\n",
       "    <tr>\n",
       "      <th>...</th>\n",
       "      <td>...</td>\n",
       "      <td>...</td>\n",
       "      <td>...</td>\n",
       "      <td>...</td>\n",
       "      <td>...</td>\n",
       "    </tr>\n",
       "    <tr>\n",
       "      <th>3480</th>\n",
       "      <td>168.85</td>\n",
       "      <td>172.1200</td>\n",
       "      <td>166.3700</td>\n",
       "      <td>168.29</td>\n",
       "      <td>109815725.0</td>\n",
       "    </tr>\n",
       "    <tr>\n",
       "      <th>3481</th>\n",
       "      <td>188.42</td>\n",
       "      <td>198.8700</td>\n",
       "      <td>184.5400</td>\n",
       "      <td>194.05</td>\n",
       "      <td>243869678.0</td>\n",
       "    </tr>\n",
       "    <tr>\n",
       "      <th>3482</th>\n",
       "      <td>186.98</td>\n",
       "      <td>190.9500</td>\n",
       "      <td>182.8401</td>\n",
       "      <td>183.28</td>\n",
       "      <td>127031787.0</td>\n",
       "    </tr>\n",
       "    <tr>\n",
       "      <th>3483</th>\n",
       "      <td>182.00</td>\n",
       "      <td>185.8600</td>\n",
       "      <td>179.0100</td>\n",
       "      <td>179.99</td>\n",
       "      <td>92829719.0</td>\n",
       "    </tr>\n",
       "    <tr>\n",
       "      <th>3484</th>\n",
       "      <td>182.86</td>\n",
       "      <td>184.6000</td>\n",
       "      <td>176.0200</td>\n",
       "      <td>180.01</td>\n",
       "      <td>89148041.0</td>\n",
       "    </tr>\n",
       "  </tbody>\n",
       "</table>\n",
       "<p>3485 rows × 5 columns</p>\n",
       "</div>"
      ],
      "text/plain": [
       "      1. open   2. high    3. low  4. close    5. volume\n",
       "0       19.00   25.0000   17.5400     23.89   18766300.0\n",
       "1       25.79   30.4192   23.3000     23.83   17187100.0\n",
       "2       25.00   25.9200   20.2700     21.96    8218800.0\n",
       "3       23.00   23.1000   18.7100     19.20    5139800.0\n",
       "4       20.00   20.0000   15.8300     16.11    6866900.0\n",
       "...       ...       ...       ...       ...          ...\n",
       "3480   168.85  172.1200  166.3700    168.29  109815725.0\n",
       "3481   188.42  198.8700  184.5400    194.05  243869678.0\n",
       "3482   186.98  190.9500  182.8401    183.28  127031787.0\n",
       "3483   182.00  185.8600  179.0100    179.99   92829719.0\n",
       "3484   182.86  184.6000  176.0200    180.01   89148041.0\n",
       "\n",
       "[3485 rows x 5 columns]"
      ]
     },
     "execution_count": 12,
     "metadata": {},
     "output_type": "execute_result"
    }
   ],
   "source": [
    "flipped_df = df[::-1].reset_index(drop=True)\n",
    "flipped_df\n"
   ]
  },
  {
   "cell_type": "code",
   "execution_count": 13,
   "metadata": {},
   "outputs": [
    {
     "data": {
      "text/plain": [
       "(3485, 5)"
      ]
     },
     "execution_count": 13,
     "metadata": {},
     "output_type": "execute_result"
    }
   ],
   "source": [
    "#get the number of rows and columns in the data set \n",
    "flipped_df.shape"
   ]
  },
  {
   "cell_type": "code",
   "execution_count": 14,
   "metadata": {},
   "outputs": [
    {
     "data": {
      "image/png": "[encoded data removed]",
      "text/plain": [
       "<Figure size 1600x800 with 1 Axes>"
      ]
     },
     "metadata": {},
     "output_type": "display_data"
    }
   ],
   "source": [
    "#visualizing closing price history \n",
    "plt.figure(figsize=(16,8))\n",
    "plt.title('close price history')\n",
    "plt.plot(flipped_df['4. close'])\n",
    "plt.xlabel('date',fontsize=18)\n",
    "plt.ylabel('close price usd ($)',fontsize=18)\n",
    "plt.show()"
   ]
  },
  {
   "cell_type": "code",
   "execution_count": 15,
   "metadata": {},
   "outputs": [
    {
     "data": {
      "text/plain": [
       "2788"
      ]
     },
     "execution_count": 15,
     "metadata": {},
     "output_type": "execute_result"
    }
   ],
   "source": [
    "#create a new dataframe with only 'close' column\n",
    "data = flipped_df.filter(['4. close'])\n",
    "#convert the dataframe to a numpy array\n",
    "dataset= data.values\n",
    "#get the number of row to train the model on \n",
    "training_data_len = math.ceil( len(dataset)* .8)\n",
    "\n",
    "training_data_len\n"
   ]
  },
  {
   "cell_type": "code",
   "execution_count": 16,
   "metadata": {},
   "outputs": [
    {
     "data": {
      "text/plain": [
       "array([[0.00363931],\n",
       "       [0.00361232],\n",
       "       [0.00277109],\n",
       "       ...,\n",
       "       [0.07534133],\n",
       "       [0.07386131],\n",
       "       [0.07387031]])"
      ]
     },
     "execution_count": 16,
     "metadata": {},
     "output_type": "execute_result"
    }
   ],
   "source": [
    "#scale the data \n",
    "scaler = MinMaxScaler(feature_range=(0,1))\n",
    "scaled_data = scaler.fit_transform(dataset)\n",
    "\n",
    "scaled_data"
   ]
  },
  {
   "cell_type": "code",
   "execution_count": 17,
   "metadata": {},
   "outputs": [
    {
     "name": "stdout",
     "output_type": "stream",
     "text": [
      "[array([0.00363931, 0.00361232, 0.00277109, 0.0015295 , 0.00013945,\n",
      "       0.        , 0.00074676, 0.00071976, 0.00056232, 0.00105266,\n",
      "       0.0018174 , 0.0018399 , 0.00217729, 0.0027486 , 0.00202434,\n",
      "       0.00198835, 0.00233923, 0.00246969, 0.00231674, 0.0021368 ,\n",
      "       0.00221328, 0.00204683, 0.00186239, 0.00230325, 0.00276659,\n",
      "       0.0024562 , 0.00209181, 0.00170494, 0.00170944, 0.00145302,\n",
      "       0.00094469, 0.00080973, 0.00113363, 0.00134056, 0.00150701,\n",
      "       0.00133606, 0.00134506, 0.00148451, 0.00194786, 0.0015295 ,\n",
      "       0.0018444 , 0.00177692, 0.00175443, 0.0018309 , 0.00165546,\n",
      "       0.00209181, 0.00236623, 0.00236173, 0.0021323 , 0.00229425,\n",
      "       0.00220878, 0.00196586, 0.00221328, 0.00239322, 0.00278009,\n",
      "       0.00231224, 0.00199285, 0.00236398, 0.00223577, 0.0018309 ,\n",
      "       0.00169145, 0.00193437, 0.0021278 , 0.00251917, 0.00278009,\n",
      "       0.00207157, 0.00215929, 0.00233474, 0.00239322, 0.00209631,\n",
      "       0.00208282, 0.00208282, 0.00199735, 0.00199735, 0.0021323 ,\n",
      "       0.00222677, 0.0021323 , 0.00199285, 0.00191187, 0.00218179,\n",
      "       0.00222677, 0.00221328, 0.00227176, 0.00250118, 0.00233923,\n",
      "       0.00242471, 0.00271711, 0.00252367, 0.0024517 , 0.00268562,\n",
      "       0.00409366, 0.00388673, 0.00412965, 0.0039722 , 0.0061    ,\n",
      "       0.00550395, 0.00631593, 0.00674779, 0.00623946, 0.00615848,\n",
      "       0.00633842, 0.00683326, 0.00791741, 0.00844373, 0.0088486 ,\n",
      "       0.00878112, 0.00833577, 0.00878562, 0.00834477, 0.00744506,\n",
      "       0.00705819, 0.00652736, 0.00708968, 0.00745406, 0.00731011,\n",
      "       0.00707168, 0.00663533, 0.00572662, 0.00620797, 0.00675229,\n",
      "       0.00699971, 0.00715266, 0.00740458, 0.00757102, 0.00642839,\n",
      "       0.00438561, 0.00477294, 0.00536674, 0.00481342, 0.0048719 ,\n",
      "       0.00486741, 0.0048899 , 0.00496187, 0.00543422, 0.00559617,\n",
      "       0.00569064, 0.00502036, 0.00502036, 0.00468746, 0.00447603,\n",
      "       0.00442655, 0.00370229, 0.003068  , 0.00325693, 0.00390922,\n",
      "       0.00399469, 0.00402618, 0.00410266, 0.00369329, 0.00373378,\n",
      "       0.00364831, 0.0036618 , 0.00352235, 0.00344587, 0.00327043,\n",
      "       0.00390922, 0.00333341, 0.00333566, 0.0033514 , 0.00327493,\n",
      "       0.00316696, 0.00401718, 0.00350885, 0.00331991, 0.00273061,\n",
      "       0.00271261, 0.00302751, 0.00351335, 0.00363931, 0.0036618 ,\n",
      "       0.00369779, 0.00385074, 0.00411615, 0.00411165, 0.00398569,\n",
      "       0.00401269, 0.00369329, 0.00372028, 0.0033514 , 0.00321645,\n",
      "       0.00315797, 0.00315347, 0.00322095, 0.00311748, 0.00287456,\n",
      "       0.00288356, 0.00293754, 0.00312648, 0.0033514 , 0.0036528 ,\n",
      "       0.00355833, 0.00537574, 0.0048854 , 0.00451202, 0.00490339,\n",
      "       0.00480893, 0.00514631, 0.00480893, 0.0042601 , 0.0039812 ,\n",
      "       0.00410715, 0.00420162, 0.00439956, 0.00415214, 0.00421062,\n",
      "       0.00447603, 0.00492139, 0.00476394, 0.00500686, 0.00507434,\n",
      "       0.00533525, 0.00530826, 0.00524078, 0.00497987, 0.0048989 ,\n",
      "       0.00478643, 0.00509233, 0.00544772, 0.00563665, 0.00506984,\n",
      "       0.00533975, 0.00528577, 0.00485841, 0.0045705 , 0.00474595,\n",
      "       0.00557817, 0.00547471, 0.00495738, 0.00491239, 0.00592906,\n",
      "       0.00615398, 0.00618547, 0.00645089, 0.00572078, 0.00583009,\n",
      "       0.00644639, 0.0058031 , 0.00565465, 0.00509233, 0.00531726,\n",
      "       0.00542522, 0.00568164, 0.00575811, 0.0051823 , 0.00481342,\n",
      "       0.00481342, 0.004593  , 0.00527677, 0.00513282, 0.00535775,\n",
      "       0.00529252, 0.00524528, 0.00553769, 0.00561866, 0.00599654,\n",
      "       0.00594705, 0.00600103, 0.00592006, 0.00626645, 0.00585258,\n",
      "       0.00564565, 0.00556468, 0.00577611, 0.00531276, 0.00529926,\n",
      "       0.00514182, 0.00543872, 0.0057986 , 0.0058031 , 0.00606851,\n",
      "       0.00570863, 0.0054882 , 0.00532626, 0.00556468, 0.00556468,\n",
      "       0.00583459, 0.0051913 , 0.00512832, 0.00402618, 0.00379676,\n",
      "       0.00352684, 0.00416564, 0.00360782, 0.0042736 , 0.00472795,\n",
      "       0.00469196, 0.00463348, 0.00451202, 0.00380575, 0.00292404,\n",
      "       0.00276659, 0.00322095, 0.00363031, 0.00328842, 0.00356733,\n",
      "       0.00400819, 0.0039722 , 0.00402168, 0.00368879, 0.00327043,\n",
      "       0.00321195, 0.00361682, 0.00351335, 0.00322544, 0.00318496,\n",
      "       0.00372478, 0.00384174, 0.00405767, 0.00449853, 0.00448503,\n",
      "       0.004593  , 0.00452102, 0.00442205, 0.00475944, 0.00437257,\n",
      "       0.00467397, 0.0039542 , 0.00374277, 0.00386423, 0.00356733,\n",
      "       0.00353584, 0.00430509, 0.00502036, 0.00503385, 0.00543422,\n",
      "       0.00531276, 0.00539823, 0.00546121, 0.0055107 , 0.00522729,\n",
      "       0.00564115, 0.00529477, 0.0051913 , 0.0055017 , 0.00573562,\n",
      "       0.00560067, 0.00547921, 0.00583009, 0.00632943, 0.0061045 ,\n",
      "       0.00588407, 0.0058076 , 0.00749455, 0.00742707, 0.00695922,\n",
      "       0.00721564, 0.00678378, 0.00698621, 0.00802537, 0.00783643,\n",
      "       0.00815583, 0.00861018, 0.00804337, 0.00755752, 0.00717965,\n",
      "       0.0073191 , 0.00704019, 0.00713466, 0.00753953, 0.00717515,\n",
      "       0.0076205 , 0.00755752, 0.00787242, 0.00837626, 0.00857869,\n",
      "       0.00827279, 0.00678828, 0.00685575, 0.00657235, 0.00614049,\n",
      "       0.00572662, 0.00576711, 0.0054882 , 0.00537574, 0.00544322,\n",
      "       0.00529477, 0.00538474, 0.00544322, 0.00574462, 0.00571763,\n",
      "       0.0058166 , 0.00574012, 0.00552419, 0.00535775, 0.00509233,\n",
      "       0.00499786, 0.00515081, 0.00531726, 0.00559167, 0.00560067,\n",
      "       0.00314447, 0.00485841, 0.00495288, 0.00493039, 0.00485841,\n",
      "       0.00493488, 0.00522729, 0.00547471, 0.00591106, 0.00608651,\n",
      "       0.00619447, 0.00596954, 0.00619897, 0.00650037, 0.00690524,\n",
      "       0.00719764, 0.00710767, 0.00725612, 0.00754853, 0.00688275,\n",
      "       0.00705819, 0.00781394, 0.00800738, 0.00826829, 0.00862368,\n",
      "       0.00841224, 0.00828629, 0.00842574, 0.00807486, 0.00801637,\n",
      "       0.00810185, 0.00792191, 0.00837176, 0.00820531, 0.00808385,\n",
      "       0.00778695, 0.00779145, 0.00776896, 0.00852021, 0.00909152,\n",
      "       0.00912751, 0.00876763, 0.00863717, 0.00878112, 0.00862817,\n",
      "       0.00861918, 0.00870465, 0.00836726, 0.00822331, 0.00971682,\n",
      "       0.00995974, 0.00991925, 0.00968533, 0.00964484, 0.00934794,\n",
      "       0.00999123, 0.00863717, 0.00840325, 0.00780494, 0.00749455,\n",
      "       0.00777795, 0.0079354 , 0.00800288, 0.00740008, 0.00739558,\n",
      "       0.00758452, 0.00780944, 0.00780944, 0.00726062, 0.00720664,\n",
      "       0.00769698, 0.00795789, 0.00789042, 0.00779595, 0.00808835,\n",
      "       0.00816033, 0.00749455, 0.00721114, 0.00749904, 0.00647338,\n",
      "       0.0064149 , 0.00771947, 0.00740008, 0.0064149 , 0.00613149,\n",
      "       0.00601903, 0.00574462, 0.00529027, 0.00583459, 0.00674329,\n",
      "       0.00684676, 0.00653186, 0.00630244, 0.00714816, 0.00657235,\n",
      "       0.00616298, 0.00555568, 0.00543422, 0.00544772, 0.00603702,\n",
      "       0.00590657, 0.0064239 , 0.00599204, 0.00623496, 0.00628444,\n",
      "       0.0061135 , 0.00634742, 0.00721564, 0.0073281 , 0.00808835])]\n",
      "[0.007373085314559481]\n",
      "\n",
      "[array([0.00363931, 0.00361232, 0.00277109, 0.0015295 , 0.00013945,\n",
      "       0.        , 0.00074676, 0.00071976, 0.00056232, 0.00105266,\n",
      "       0.0018174 , 0.0018399 , 0.00217729, 0.0027486 , 0.00202434,\n",
      "       0.00198835, 0.00233923, 0.00246969, 0.00231674, 0.0021368 ,\n",
      "       0.00221328, 0.00204683, 0.00186239, 0.00230325, 0.00276659,\n",
      "       0.0024562 , 0.00209181, 0.00170494, 0.00170944, 0.00145302,\n",
      "       0.00094469, 0.00080973, 0.00113363, 0.00134056, 0.00150701,\n",
      "       0.00133606, 0.00134506, 0.00148451, 0.00194786, 0.0015295 ,\n",
      "       0.0018444 , 0.00177692, 0.00175443, 0.0018309 , 0.00165546,\n",
      "       0.00209181, 0.00236623, 0.00236173, 0.0021323 , 0.00229425,\n",
      "       0.00220878, 0.00196586, 0.00221328, 0.00239322, 0.00278009,\n",
      "       0.00231224, 0.00199285, 0.00236398, 0.00223577, 0.0018309 ,\n",
      "       0.00169145, 0.00193437, 0.0021278 , 0.00251917, 0.00278009,\n",
      "       0.00207157, 0.00215929, 0.00233474, 0.00239322, 0.00209631,\n",
      "       0.00208282, 0.00208282, 0.00199735, 0.00199735, 0.0021323 ,\n",
      "       0.00222677, 0.0021323 , 0.00199285, 0.00191187, 0.00218179,\n",
      "       0.00222677, 0.00221328, 0.00227176, 0.00250118, 0.00233923,\n",
      "       0.00242471, 0.00271711, 0.00252367, 0.0024517 , 0.00268562,\n",
      "       0.00409366, 0.00388673, 0.00412965, 0.0039722 , 0.0061    ,\n",
      "       0.00550395, 0.00631593, 0.00674779, 0.00623946, 0.00615848,\n",
      "       0.00633842, 0.00683326, 0.00791741, 0.00844373, 0.0088486 ,\n",
      "       0.00878112, 0.00833577, 0.00878562, 0.00834477, 0.00744506,\n",
      "       0.00705819, 0.00652736, 0.00708968, 0.00745406, 0.00731011,\n",
      "       0.00707168, 0.00663533, 0.00572662, 0.00620797, 0.00675229,\n",
      "       0.00699971, 0.00715266, 0.00740458, 0.00757102, 0.00642839,\n",
      "       0.00438561, 0.00477294, 0.00536674, 0.00481342, 0.0048719 ,\n",
      "       0.00486741, 0.0048899 , 0.00496187, 0.00543422, 0.00559617,\n",
      "       0.00569064, 0.00502036, 0.00502036, 0.00468746, 0.00447603,\n",
      "       0.00442655, 0.00370229, 0.003068  , 0.00325693, 0.00390922,\n",
      "       0.00399469, 0.00402618, 0.00410266, 0.00369329, 0.00373378,\n",
      "       0.00364831, 0.0036618 , 0.00352235, 0.00344587, 0.00327043,\n",
      "       0.00390922, 0.00333341, 0.00333566, 0.0033514 , 0.00327493,\n",
      "       0.00316696, 0.00401718, 0.00350885, 0.00331991, 0.00273061,\n",
      "       0.00271261, 0.00302751, 0.00351335, 0.00363931, 0.0036618 ,\n",
      "       0.00369779, 0.00385074, 0.00411615, 0.00411165, 0.00398569,\n",
      "       0.00401269, 0.00369329, 0.00372028, 0.0033514 , 0.00321645,\n",
      "       0.00315797, 0.00315347, 0.00322095, 0.00311748, 0.00287456,\n",
      "       0.00288356, 0.00293754, 0.00312648, 0.0033514 , 0.0036528 ,\n",
      "       0.00355833, 0.00537574, 0.0048854 , 0.00451202, 0.00490339,\n",
      "       0.00480893, 0.00514631, 0.00480893, 0.0042601 , 0.0039812 ,\n",
      "       0.00410715, 0.00420162, 0.00439956, 0.00415214, 0.00421062,\n",
      "       0.00447603, 0.00492139, 0.00476394, 0.00500686, 0.00507434,\n",
      "       0.00533525, 0.00530826, 0.00524078, 0.00497987, 0.0048989 ,\n",
      "       0.00478643, 0.00509233, 0.00544772, 0.00563665, 0.00506984,\n",
      "       0.00533975, 0.00528577, 0.00485841, 0.0045705 , 0.00474595,\n",
      "       0.00557817, 0.00547471, 0.00495738, 0.00491239, 0.00592906,\n",
      "       0.00615398, 0.00618547, 0.00645089, 0.00572078, 0.00583009,\n",
      "       0.00644639, 0.0058031 , 0.00565465, 0.00509233, 0.00531726,\n",
      "       0.00542522, 0.00568164, 0.00575811, 0.0051823 , 0.00481342,\n",
      "       0.00481342, 0.004593  , 0.00527677, 0.00513282, 0.00535775,\n",
      "       0.00529252, 0.00524528, 0.00553769, 0.00561866, 0.00599654,\n",
      "       0.00594705, 0.00600103, 0.00592006, 0.00626645, 0.00585258,\n",
      "       0.00564565, 0.00556468, 0.00577611, 0.00531276, 0.00529926,\n",
      "       0.00514182, 0.00543872, 0.0057986 , 0.0058031 , 0.00606851,\n",
      "       0.00570863, 0.0054882 , 0.00532626, 0.00556468, 0.00556468,\n",
      "       0.00583459, 0.0051913 , 0.00512832, 0.00402618, 0.00379676,\n",
      "       0.00352684, 0.00416564, 0.00360782, 0.0042736 , 0.00472795,\n",
      "       0.00469196, 0.00463348, 0.00451202, 0.00380575, 0.00292404,\n",
      "       0.00276659, 0.00322095, 0.00363031, 0.00328842, 0.00356733,\n",
      "       0.00400819, 0.0039722 , 0.00402168, 0.00368879, 0.00327043,\n",
      "       0.00321195, 0.00361682, 0.00351335, 0.00322544, 0.00318496,\n",
      "       0.00372478, 0.00384174, 0.00405767, 0.00449853, 0.00448503,\n",
      "       0.004593  , 0.00452102, 0.00442205, 0.00475944, 0.00437257,\n",
      "       0.00467397, 0.0039542 , 0.00374277, 0.00386423, 0.00356733,\n",
      "       0.00353584, 0.00430509, 0.00502036, 0.00503385, 0.00543422,\n",
      "       0.00531276, 0.00539823, 0.00546121, 0.0055107 , 0.00522729,\n",
      "       0.00564115, 0.00529477, 0.0051913 , 0.0055017 , 0.00573562,\n",
      "       0.00560067, 0.00547921, 0.00583009, 0.00632943, 0.0061045 ,\n",
      "       0.00588407, 0.0058076 , 0.00749455, 0.00742707, 0.00695922,\n",
      "       0.00721564, 0.00678378, 0.00698621, 0.00802537, 0.00783643,\n",
      "       0.00815583, 0.00861018, 0.00804337, 0.00755752, 0.00717965,\n",
      "       0.0073191 , 0.00704019, 0.00713466, 0.00753953, 0.00717515,\n",
      "       0.0076205 , 0.00755752, 0.00787242, 0.00837626, 0.00857869,\n",
      "       0.00827279, 0.00678828, 0.00685575, 0.00657235, 0.00614049,\n",
      "       0.00572662, 0.00576711, 0.0054882 , 0.00537574, 0.00544322,\n",
      "       0.00529477, 0.00538474, 0.00544322, 0.00574462, 0.00571763,\n",
      "       0.0058166 , 0.00574012, 0.00552419, 0.00535775, 0.00509233,\n",
      "       0.00499786, 0.00515081, 0.00531726, 0.00559167, 0.00560067,\n",
      "       0.00314447, 0.00485841, 0.00495288, 0.00493039, 0.00485841,\n",
      "       0.00493488, 0.00522729, 0.00547471, 0.00591106, 0.00608651,\n",
      "       0.00619447, 0.00596954, 0.00619897, 0.00650037, 0.00690524,\n",
      "       0.00719764, 0.00710767, 0.00725612, 0.00754853, 0.00688275,\n",
      "       0.00705819, 0.00781394, 0.00800738, 0.00826829, 0.00862368,\n",
      "       0.00841224, 0.00828629, 0.00842574, 0.00807486, 0.00801637,\n",
      "       0.00810185, 0.00792191, 0.00837176, 0.00820531, 0.00808385,\n",
      "       0.00778695, 0.00779145, 0.00776896, 0.00852021, 0.00909152,\n",
      "       0.00912751, 0.00876763, 0.00863717, 0.00878112, 0.00862817,\n",
      "       0.00861918, 0.00870465, 0.00836726, 0.00822331, 0.00971682,\n",
      "       0.00995974, 0.00991925, 0.00968533, 0.00964484, 0.00934794,\n",
      "       0.00999123, 0.00863717, 0.00840325, 0.00780494, 0.00749455,\n",
      "       0.00777795, 0.0079354 , 0.00800288, 0.00740008, 0.00739558,\n",
      "       0.00758452, 0.00780944, 0.00780944, 0.00726062, 0.00720664,\n",
      "       0.00769698, 0.00795789, 0.00789042, 0.00779595, 0.00808835,\n",
      "       0.00816033, 0.00749455, 0.00721114, 0.00749904, 0.00647338,\n",
      "       0.0064149 , 0.00771947, 0.00740008, 0.0064149 , 0.00613149,\n",
      "       0.00601903, 0.00574462, 0.00529027, 0.00583459, 0.00674329,\n",
      "       0.00684676, 0.00653186, 0.00630244, 0.00714816, 0.00657235,\n",
      "       0.00616298, 0.00555568, 0.00543422, 0.00544772, 0.00603702,\n",
      "       0.00590657, 0.0064239 , 0.00599204, 0.00623496, 0.00628444,\n",
      "       0.0061135 , 0.00634742, 0.00721564, 0.0073281 , 0.00808835]), array([0.00361232, 0.00277109, 0.0015295 , 0.00013945, 0.        ,\n",
      "       0.00074676, 0.00071976, 0.00056232, 0.00105266, 0.0018174 ,\n",
      "       0.0018399 , 0.00217729, 0.0027486 , 0.00202434, 0.00198835,\n",
      "       0.00233923, 0.00246969, 0.00231674, 0.0021368 , 0.00221328,\n",
      "       0.00204683, 0.00186239, 0.00230325, 0.00276659, 0.0024562 ,\n",
      "       0.00209181, 0.00170494, 0.00170944, 0.00145302, 0.00094469,\n",
      "       0.00080973, 0.00113363, 0.00134056, 0.00150701, 0.00133606,\n",
      "       0.00134506, 0.00148451, 0.00194786, 0.0015295 , 0.0018444 ,\n",
      "       0.00177692, 0.00175443, 0.0018309 , 0.00165546, 0.00209181,\n",
      "       0.00236623, 0.00236173, 0.0021323 , 0.00229425, 0.00220878,\n",
      "       0.00196586, 0.00221328, 0.00239322, 0.00278009, 0.00231224,\n",
      "       0.00199285, 0.00236398, 0.00223577, 0.0018309 , 0.00169145,\n",
      "       0.00193437, 0.0021278 , 0.00251917, 0.00278009, 0.00207157,\n",
      "       0.00215929, 0.00233474, 0.00239322, 0.00209631, 0.00208282,\n",
      "       0.00208282, 0.00199735, 0.00199735, 0.0021323 , 0.00222677,\n",
      "       0.0021323 , 0.00199285, 0.00191187, 0.00218179, 0.00222677,\n",
      "       0.00221328, 0.00227176, 0.00250118, 0.00233923, 0.00242471,\n",
      "       0.00271711, 0.00252367, 0.0024517 , 0.00268562, 0.00409366,\n",
      "       0.00388673, 0.00412965, 0.0039722 , 0.0061    , 0.00550395,\n",
      "       0.00631593, 0.00674779, 0.00623946, 0.00615848, 0.00633842,\n",
      "       0.00683326, 0.00791741, 0.00844373, 0.0088486 , 0.00878112,\n",
      "       0.00833577, 0.00878562, 0.00834477, 0.00744506, 0.00705819,\n",
      "       0.00652736, 0.00708968, 0.00745406, 0.00731011, 0.00707168,\n",
      "       0.00663533, 0.00572662, 0.00620797, 0.00675229, 0.00699971,\n",
      "       0.00715266, 0.00740458, 0.00757102, 0.00642839, 0.00438561,\n",
      "       0.00477294, 0.00536674, 0.00481342, 0.0048719 , 0.00486741,\n",
      "       0.0048899 , 0.00496187, 0.00543422, 0.00559617, 0.00569064,\n",
      "       0.00502036, 0.00502036, 0.00468746, 0.00447603, 0.00442655,\n",
      "       0.00370229, 0.003068  , 0.00325693, 0.00390922, 0.00399469,\n",
      "       0.00402618, 0.00410266, 0.00369329, 0.00373378, 0.00364831,\n",
      "       0.0036618 , 0.00352235, 0.00344587, 0.00327043, 0.00390922,\n",
      "       0.00333341, 0.00333566, 0.0033514 , 0.00327493, 0.00316696,\n",
      "       0.00401718, 0.00350885, 0.00331991, 0.00273061, 0.00271261,\n",
      "       0.00302751, 0.00351335, 0.00363931, 0.0036618 , 0.00369779,\n",
      "       0.00385074, 0.00411615, 0.00411165, 0.00398569, 0.00401269,\n",
      "       0.00369329, 0.00372028, 0.0033514 , 0.00321645, 0.00315797,\n",
      "       0.00315347, 0.00322095, 0.00311748, 0.00287456, 0.00288356,\n",
      "       0.00293754, 0.00312648, 0.0033514 , 0.0036528 , 0.00355833,\n",
      "       0.00537574, 0.0048854 , 0.00451202, 0.00490339, 0.00480893,\n",
      "       0.00514631, 0.00480893, 0.0042601 , 0.0039812 , 0.00410715,\n",
      "       0.00420162, 0.00439956, 0.00415214, 0.00421062, 0.00447603,\n",
      "       0.00492139, 0.00476394, 0.00500686, 0.00507434, 0.00533525,\n",
      "       0.00530826, 0.00524078, 0.00497987, 0.0048989 , 0.00478643,\n",
      "       0.00509233, 0.00544772, 0.00563665, 0.00506984, 0.00533975,\n",
      "       0.00528577, 0.00485841, 0.0045705 , 0.00474595, 0.00557817,\n",
      "       0.00547471, 0.00495738, 0.00491239, 0.00592906, 0.00615398,\n",
      "       0.00618547, 0.00645089, 0.00572078, 0.00583009, 0.00644639,\n",
      "       0.0058031 , 0.00565465, 0.00509233, 0.00531726, 0.00542522,\n",
      "       0.00568164, 0.00575811, 0.0051823 , 0.00481342, 0.00481342,\n",
      "       0.004593  , 0.00527677, 0.00513282, 0.00535775, 0.00529252,\n",
      "       0.00524528, 0.00553769, 0.00561866, 0.00599654, 0.00594705,\n",
      "       0.00600103, 0.00592006, 0.00626645, 0.00585258, 0.00564565,\n",
      "       0.00556468, 0.00577611, 0.00531276, 0.00529926, 0.00514182,\n",
      "       0.00543872, 0.0057986 , 0.0058031 , 0.00606851, 0.00570863,\n",
      "       0.0054882 , 0.00532626, 0.00556468, 0.00556468, 0.00583459,\n",
      "       0.0051913 , 0.00512832, 0.00402618, 0.00379676, 0.00352684,\n",
      "       0.00416564, 0.00360782, 0.0042736 , 0.00472795, 0.00469196,\n",
      "       0.00463348, 0.00451202, 0.00380575, 0.00292404, 0.00276659,\n",
      "       0.00322095, 0.00363031, 0.00328842, 0.00356733, 0.00400819,\n",
      "       0.0039722 , 0.00402168, 0.00368879, 0.00327043, 0.00321195,\n",
      "       0.00361682, 0.00351335, 0.00322544, 0.00318496, 0.00372478,\n",
      "       0.00384174, 0.00405767, 0.00449853, 0.00448503, 0.004593  ,\n",
      "       0.00452102, 0.00442205, 0.00475944, 0.00437257, 0.00467397,\n",
      "       0.0039542 , 0.00374277, 0.00386423, 0.00356733, 0.00353584,\n",
      "       0.00430509, 0.00502036, 0.00503385, 0.00543422, 0.00531276,\n",
      "       0.00539823, 0.00546121, 0.0055107 , 0.00522729, 0.00564115,\n",
      "       0.00529477, 0.0051913 , 0.0055017 , 0.00573562, 0.00560067,\n",
      "       0.00547921, 0.00583009, 0.00632943, 0.0061045 , 0.00588407,\n",
      "       0.0058076 , 0.00749455, 0.00742707, 0.00695922, 0.00721564,\n",
      "       0.00678378, 0.00698621, 0.00802537, 0.00783643, 0.00815583,\n",
      "       0.00861018, 0.00804337, 0.00755752, 0.00717965, 0.0073191 ,\n",
      "       0.00704019, 0.00713466, 0.00753953, 0.00717515, 0.0076205 ,\n",
      "       0.00755752, 0.00787242, 0.00837626, 0.00857869, 0.00827279,\n",
      "       0.00678828, 0.00685575, 0.00657235, 0.00614049, 0.00572662,\n",
      "       0.00576711, 0.0054882 , 0.00537574, 0.00544322, 0.00529477,\n",
      "       0.00538474, 0.00544322, 0.00574462, 0.00571763, 0.0058166 ,\n",
      "       0.00574012, 0.00552419, 0.00535775, 0.00509233, 0.00499786,\n",
      "       0.00515081, 0.00531726, 0.00559167, 0.00560067, 0.00314447,\n",
      "       0.00485841, 0.00495288, 0.00493039, 0.00485841, 0.00493488,\n",
      "       0.00522729, 0.00547471, 0.00591106, 0.00608651, 0.00619447,\n",
      "       0.00596954, 0.00619897, 0.00650037, 0.00690524, 0.00719764,\n",
      "       0.00710767, 0.00725612, 0.00754853, 0.00688275, 0.00705819,\n",
      "       0.00781394, 0.00800738, 0.00826829, 0.00862368, 0.00841224,\n",
      "       0.00828629, 0.00842574, 0.00807486, 0.00801637, 0.00810185,\n",
      "       0.00792191, 0.00837176, 0.00820531, 0.00808385, 0.00778695,\n",
      "       0.00779145, 0.00776896, 0.00852021, 0.00909152, 0.00912751,\n",
      "       0.00876763, 0.00863717, 0.00878112, 0.00862817, 0.00861918,\n",
      "       0.00870465, 0.00836726, 0.00822331, 0.00971682, 0.00995974,\n",
      "       0.00991925, 0.00968533, 0.00964484, 0.00934794, 0.00999123,\n",
      "       0.00863717, 0.00840325, 0.00780494, 0.00749455, 0.00777795,\n",
      "       0.0079354 , 0.00800288, 0.00740008, 0.00739558, 0.00758452,\n",
      "       0.00780944, 0.00780944, 0.00726062, 0.00720664, 0.00769698,\n",
      "       0.00795789, 0.00789042, 0.00779595, 0.00808835, 0.00816033,\n",
      "       0.00749455, 0.00721114, 0.00749904, 0.00647338, 0.0064149 ,\n",
      "       0.00771947, 0.00740008, 0.0064149 , 0.00613149, 0.00601903,\n",
      "       0.00574462, 0.00529027, 0.00583459, 0.00674329, 0.00684676,\n",
      "       0.00653186, 0.00630244, 0.00714816, 0.00657235, 0.00616298,\n",
      "       0.00555568, 0.00543422, 0.00544772, 0.00603702, 0.00590657,\n",
      "       0.0064239 , 0.00599204, 0.00623496, 0.00628444, 0.0061135 ,\n",
      "       0.00634742, 0.00721564, 0.0073281 , 0.00808835, 0.00737309])]\n",
      "[0.007373085314559481, 0.00809060032839245]\n",
      "\n"
     ]
    }
   ],
   "source": [
    "#create the train data set \n",
    "#create the scaled training data set\n",
    "train_data = scaled_data[0:training_data_len , :]\n",
    "#split the data into x_train and y_train data set \n",
    "x_train = []\n",
    "y_train = []\n",
    "\n",
    "for i in range(500, len(train_data)):\n",
    "    x_train.append(train_data[i-500:i, 0])\n",
    "    y_train.append(train_data[i, 0])\n",
    "    if i <= 501:\n",
    "        print(x_train)\n",
    "        print(y_train)\n",
    "        print()\n",
    "    \n"
   ]
  },
  {
   "cell_type": "code",
   "execution_count": 18,
   "metadata": {},
   "outputs": [],
   "source": [
    "#convert the x_train and y_train to numpy arrays \n",
    "x_train, y_train = np.array(x_train), np.array(y_train)"
   ]
  },
  {
   "cell_type": "code",
   "execution_count": 19,
   "metadata": {},
   "outputs": [
    {
     "data": {
      "text/plain": [
       "(2288, 500, 1)"
      ]
     },
     "execution_count": 19,
     "metadata": {},
     "output_type": "execute_result"
    }
   ],
   "source": [
    "#reshape the data \n",
    "x_train = np.reshape(x_train, (x_train.shape[0], x_train.shape[1],  1))\n",
    "x_train.shape"
   ]
  },
  {
   "cell_type": "code",
   "execution_count": 20,
   "metadata": {},
   "outputs": [
    {
     "name": "stderr",
     "output_type": "stream",
     "text": [
      "c:\\Users\\Malavi\\AppData\\Local\\Programs\\Python\\Python311\\Lib\\site-packages\\keras\\src\\layers\\rnn\\rnn.py:204: UserWarning: Do not pass an `input_shape`/`input_dim` argument to a layer. When using Sequential models, prefer using an `Input(shape)` object as the first layer in the model instead.\n",
      "  super().__init__(**kwargs)\n"
     ]
    }
   ],
   "source": [
    "#build the LSTM model \n",
    "model = Sequential()\n",
    "model.add(LSTM(50, return_sequences=True,input_shape=(x_train.shape[1], 1)))\n",
    "model.add(LSTM(50, return_sequences=False))\n",
    "model.add(Dense(25))\n",
    "model.add(Dense(1))"
   ]
  },
  {
   "cell_type": "code",
   "execution_count": 21,
   "metadata": {},
   "outputs": [],
   "source": [
    "#compile the model \n",
    "model.compile(optimizer='adam', loss='mean_squared_error')"
   ]
  },
  {
   "cell_type": "code",
   "execution_count": 22,
   "metadata": {},
   "outputs": [
    {
     "name": "stdout",
     "output_type": "stream",
     "text": [
      "\u001b[1m2288/2288\u001b[0m \u001b[32m━━━━━━━━━━━━━━━━━━━━\u001b[0m\u001b[37m\u001b[0m \u001b[1m321s\u001b[0m 139ms/step - loss: 0.0025\n"
     ]
    },
    {
     "data": {
      "text/plain": [
       "<keras.src.callbacks.history.History at 0x2434c894210>"
      ]
     },
     "execution_count": 22,
     "metadata": {},
     "output_type": "execute_result"
    }
   ],
   "source": [
    "#train the model \n",
    "model.fit(x_train, y_train, batch_size=1, epochs=1)"
   ]
  },
  {
   "cell_type": "code",
   "execution_count": 23,
   "metadata": {},
   "outputs": [],
   "source": [
    "#creating the testing data set \n",
    "#createa new array containing scaled values from index 2721 to 3221\n",
    "test_data = scaled_data[training_data_len - 500: , :]\n",
    "#create the data sets x_test and y_test\n",
    "x_test = []\n",
    "y_test = dataset[training_data_len:, :]\n",
    "for i in range(500, len(test_data)):\n",
    "    x_test.append(test_data[i-500:i, 0])\n"
   ]
  },
  {
   "cell_type": "code",
   "execution_count": 24,
   "metadata": {},
   "outputs": [],
   "source": [
    "#convert data into numpy array \n",
    "x_test = np.array(x_test)"
   ]
  },
  {
   "cell_type": "code",
   "execution_count": 25,
   "metadata": {},
   "outputs": [],
   "source": [
    "#reshape the data for LSTM\n",
    "x_test = np.reshape(x_test, (x_test.shape[0], x_test.shape[1], 1 ))"
   ]
  },
  {
   "cell_type": "code",
   "execution_count": 26,
   "metadata": {},
   "outputs": [
    {
     "name": "stdout",
     "output_type": "stream",
     "text": [
      "\u001b[1m22/22\u001b[0m \u001b[32m━━━━━━━━━━━━━━━━━━━━\u001b[0m\u001b[37m\u001b[0m \u001b[1m2s\u001b[0m 68ms/step\n"
     ]
    }
   ],
   "source": [
    "#get the models predicted price values \n",
    "predictions = model.predict(x_test)\n",
    "predictions = scaler.inverse_transform(predictions)"
   ]
  },
  {
   "cell_type": "code",
   "execution_count": 37,
   "metadata": {},
   "outputs": [
    {
     "data": {
      "text/plain": [
       "2750.0517607782826"
      ]
     },
     "execution_count": 37,
     "metadata": {},
     "output_type": "execute_result"
    }
   ],
   "source": [
    "# Calculate Mean Squared Error (MSE)\n",
    "mse = np.mean((predictions - y_test) ** 2)\n",
    "mse"
   ]
  },
  {
   "cell_type": "code",
   "execution_count": 27,
   "metadata": {},
   "outputs": [
    {
     "data": {
      "text/plain": [
       "3.9059864367097847"
      ]
     },
     "execution_count": 27,
     "metadata": {},
     "output_type": "execute_result"
    }
   ],
   "source": [
    "#get the root mean squared error (RMSE)\n",
    "rmse = np.sqrt(np.mean(predictions - y_test)**2)\n",
    "rmse"
   ]
  },
  {
   "cell_type": "code",
   "execution_count": 38,
   "metadata": {},
   "outputs": [
    {
     "data": {
      "text/plain": [
       "34.90581320895355"
      ]
     },
     "execution_count": 38,
     "metadata": {},
     "output_type": "execute_result"
    }
   ],
   "source": [
    "#calculate Mean Absolute Error (MAE)\n",
    "mae = np.mean(np.abs(predictions - y_test))\n",
    "mae"
   ]
  },
  {
   "cell_type": "code",
   "execution_count": 29,
   "metadata": {},
   "outputs": [
    {
     "name": "stderr",
     "output_type": "stream",
     "text": [
      "C:\\Users\\Malavi\\AppData\\Local\\Temp\\ipykernel_10144\\2773688615.py:4: SettingWithCopyWarning: \n",
      "A value is trying to be set on a copy of a slice from a DataFrame.\n",
      "Try using .loc[row_indexer,col_indexer] = value instead\n",
      "\n",
      "See the caveats in the documentation: https://pandas.pydata.org/pandas-docs/stable/user_guide/indexing.html#returning-a-view-versus-a-copy\n",
      "  valid['Predictions'] = predictions\n"
     ]
    },
    {
     "data": {
      "image/png": "[encoded data removed]",
      "text/plain": [
       "<Figure size 1600x800 with 1 Axes>"
      ]
     },
     "metadata": {},
     "output_type": "display_data"
    }
   ],
   "source": [
    "#plot the data \n",
    "train = data[:training_data_len]\n",
    "valid = data[training_data_len:]\n",
    "valid['Predictions'] = predictions\n",
    "\n",
    "#visualize the data\n",
    "plt.figure(figsize=(16,8))\n",
    "plt.title('Model')\n",
    "plt.xlabel('Date', fontsize=18)\n",
    "plt.ylabel('close price USD ($)', fontsize=18)\n",
    "plt.plot(train['4. close'])\n",
    "plt.plot(valid[['4. close','Predictions']])\n",
    "plt.legend(['Train','val','predictions'], loc='upper left')\n",
    "plt.show()"
   ]
  },
  {
   "cell_type": "code",
   "execution_count": 30,
   "metadata": {},
   "outputs": [
    {
     "data": {
      "text/html": [
       "<div>\n",
       "<style scoped>\n",
       "    .dataframe tbody tr th:only-of-type {\n",
       "        vertical-align: middle;\n",
       "    }\n",
       "\n",
       "    .dataframe tbody tr th {\n",
       "        vertical-align: top;\n",
       "    }\n",
       "\n",
       "    .dataframe thead th {\n",
       "        text-align: right;\n",
       "    }\n",
       "</style>\n",
       "<table border=\"1\" class=\"dataframe\">\n",
       "  <thead>\n",
       "    <tr style=\"text-align: right;\">\n",
       "      <th></th>\n",
       "      <th>4. close</th>\n",
       "      <th>Predictions</th>\n",
       "    </tr>\n",
       "  </thead>\n",
       "  <tbody>\n",
       "    <tr>\n",
       "      <th>2788</th>\n",
       "      <td>644.78</td>\n",
       "      <td>640.783081</td>\n",
       "    </tr>\n",
       "    <tr>\n",
       "      <th>2789</th>\n",
       "      <td>646.98</td>\n",
       "      <td>639.827026</td>\n",
       "    </tr>\n",
       "    <tr>\n",
       "      <th>2790</th>\n",
       "      <td>677.35</td>\n",
       "      <td>638.889282</td>\n",
       "    </tr>\n",
       "    <tr>\n",
       "      <th>2791</th>\n",
       "      <td>687.20</td>\n",
       "      <td>644.204529</td>\n",
       "    </tr>\n",
       "    <tr>\n",
       "      <th>2792</th>\n",
       "      <td>709.67</td>\n",
       "      <td>652.754395</td>\n",
       "    </tr>\n",
       "    <tr>\n",
       "      <th>...</th>\n",
       "      <td>...</td>\n",
       "      <td>...</td>\n",
       "    </tr>\n",
       "    <tr>\n",
       "      <th>3480</th>\n",
       "      <td>168.29</td>\n",
       "      <td>181.709274</td>\n",
       "    </tr>\n",
       "    <tr>\n",
       "      <th>3481</th>\n",
       "      <td>194.05</td>\n",
       "      <td>186.127426</td>\n",
       "    </tr>\n",
       "    <tr>\n",
       "      <th>3482</th>\n",
       "      <td>183.28</td>\n",
       "      <td>194.391159</td>\n",
       "    </tr>\n",
       "    <tr>\n",
       "      <th>3483</th>\n",
       "      <td>179.99</td>\n",
       "      <td>200.746155</td>\n",
       "    </tr>\n",
       "    <tr>\n",
       "      <th>3484</th>\n",
       "      <td>180.01</td>\n",
       "      <td>204.458328</td>\n",
       "    </tr>\n",
       "  </tbody>\n",
       "</table>\n",
       "<p>697 rows × 2 columns</p>\n",
       "</div>"
      ],
      "text/plain": [
       "      4. close  Predictions\n",
       "2788    644.78   640.783081\n",
       "2789    646.98   639.827026\n",
       "2790    677.35   638.889282\n",
       "2791    687.20   644.204529\n",
       "2792    709.67   652.754395\n",
       "...        ...          ...\n",
       "3480    168.29   181.709274\n",
       "3481    194.05   186.127426\n",
       "3482    183.28   194.391159\n",
       "3483    179.99   200.746155\n",
       "3484    180.01   204.458328\n",
       "\n",
       "[697 rows x 2 columns]"
      ]
     },
     "execution_count": 30,
     "metadata": {},
     "output_type": "execute_result"
    }
   ],
   "source": [
    "#show the valid and predicted prices \n",
    "valid "
   ]
  },
  {
   "cell_type": "code",
   "execution_count": 31,
   "metadata": {},
   "outputs": [
    {
     "name": "stdout",
     "output_type": "stream",
     "text": [
      "            1. open   2. high    3. low  4. close    5. volume\n",
      "date                                                          \n",
      "2024-05-02   182.86  184.6000  176.0200    180.01   89148041.0\n",
      "2024-05-01   182.00  185.8600  179.0100    179.99   92829719.0\n",
      "2024-04-30   186.98  190.9500  182.8401    183.28  127031787.0\n",
      "2024-04-29   188.42  198.8700  184.5400    194.05  243869678.0\n",
      "2024-04-26   168.85  172.1200  166.3700    168.29  109815725.0\n",
      "...             ...       ...       ...       ...          ...\n",
      "2010-07-06    20.00   20.0000   15.8300     16.11    6866900.0\n",
      "2010-07-02    23.00   23.1000   18.7100     19.20    5139800.0\n",
      "2010-07-01    25.00   25.9200   20.2700     21.96    8218800.0\n",
      "2010-06-30    25.79   30.4192   23.3000     23.83   17187100.0\n",
      "2010-06-29    19.00   25.0000   17.5400     23.89   18766300.0\n",
      "\n",
      "[3485 rows x 5 columns]\n"
     ]
    }
   ],
   "source": [
    "#get the quote\n",
    "ts = TimeSeries(key='YOUR_API_KEY', output_format='pandas')\n",
    "data, meta_data = ts.get_daily(symbol='TSLA', outputsize='full')\n",
    "print(data)\n",
    "\n"
   ]
  },
  {
   "cell_type": "code",
   "execution_count": 32,
   "metadata": {},
   "outputs": [
    {
     "name": "stdout",
     "output_type": "stream",
     "text": [
      "            1. open   2. high    3. low  4. close    5. volume\n",
      "date                                                          \n",
      "2024-05-02   182.86  184.6000  176.0200    180.01   89148041.0\n",
      "2024-05-01   182.00  185.8600  179.0100    179.99   92829719.0\n",
      "2024-04-30   186.98  190.9500  182.8401    183.28  127031787.0\n",
      "2024-04-29   188.42  198.8700  184.5400    194.05  243869678.0\n",
      "2024-04-26   168.85  172.1200  166.3700    168.29  109815725.0\n",
      "...             ...       ...       ...       ...          ...\n",
      "2010-07-06    20.00   20.0000   15.8300     16.11    6866900.0\n",
      "2010-07-02    23.00   23.1000   18.7100     19.20    5139800.0\n",
      "2010-07-01    25.00   25.9200   20.2700     21.96    8218800.0\n",
      "2010-06-30    25.79   30.4192   23.3000     23.83   17187100.0\n",
      "2010-06-29    19.00   25.0000   17.5400     23.89   18766300.0\n",
      "\n",
      "[3485 rows x 5 columns]\n"
     ]
    }
   ],
   "source": [
    "# Initialize TimeSeries with your API key\n",
    "ts = TimeSeries(key='YOUR_API_KEY', output_format='pandas')\n",
    "\n",
    "# Get daily stock data for TSLA\n",
    "data, meta_data = ts.get_daily(symbol='TSLA', outputsize='full')\n",
    "\n",
    "# Convert the fetched data into a DataFrame\n",
    "df3 = pd.DataFrame(data)\n",
    "\n",
    "# Print the DataFrame\n",
    "print(df3)"
   ]
  },
  {
   "cell_type": "code",
   "execution_count": 33,
   "metadata": {},
   "outputs": [
    {
     "data": {
      "text/html": [
       "<div>\n",
       "<style scoped>\n",
       "    .dataframe tbody tr th:only-of-type {\n",
       "        vertical-align: middle;\n",
       "    }\n",
       "\n",
       "    .dataframe tbody tr th {\n",
       "        vertical-align: top;\n",
       "    }\n",
       "\n",
       "    .dataframe thead th {\n",
       "        text-align: right;\n",
       "    }\n",
       "</style>\n",
       "<table border=\"1\" class=\"dataframe\">\n",
       "  <thead>\n",
       "    <tr style=\"text-align: right;\">\n",
       "      <th></th>\n",
       "      <th>1. open</th>\n",
       "      <th>2. high</th>\n",
       "      <th>3. low</th>\n",
       "      <th>4. close</th>\n",
       "      <th>5. volume</th>\n",
       "    </tr>\n",
       "  </thead>\n",
       "  <tbody>\n",
       "    <tr>\n",
       "      <th>0</th>\n",
       "      <td>19.00</td>\n",
       "      <td>25.0000</td>\n",
       "      <td>17.5400</td>\n",
       "      <td>23.89</td>\n",
       "      <td>18766300.0</td>\n",
       "    </tr>\n",
       "    <tr>\n",
       "      <th>1</th>\n",
       "      <td>25.79</td>\n",
       "      <td>30.4192</td>\n",
       "      <td>23.3000</td>\n",
       "      <td>23.83</td>\n",
       "      <td>17187100.0</td>\n",
       "    </tr>\n",
       "    <tr>\n",
       "      <th>2</th>\n",
       "      <td>25.00</td>\n",
       "      <td>25.9200</td>\n",
       "      <td>20.2700</td>\n",
       "      <td>21.96</td>\n",
       "      <td>8218800.0</td>\n",
       "    </tr>\n",
       "    <tr>\n",
       "      <th>3</th>\n",
       "      <td>23.00</td>\n",
       "      <td>23.1000</td>\n",
       "      <td>18.7100</td>\n",
       "      <td>19.20</td>\n",
       "      <td>5139800.0</td>\n",
       "    </tr>\n",
       "    <tr>\n",
       "      <th>4</th>\n",
       "      <td>20.00</td>\n",
       "      <td>20.0000</td>\n",
       "      <td>15.8300</td>\n",
       "      <td>16.11</td>\n",
       "      <td>6866900.0</td>\n",
       "    </tr>\n",
       "    <tr>\n",
       "      <th>...</th>\n",
       "      <td>...</td>\n",
       "      <td>...</td>\n",
       "      <td>...</td>\n",
       "      <td>...</td>\n",
       "      <td>...</td>\n",
       "    </tr>\n",
       "    <tr>\n",
       "      <th>3480</th>\n",
       "      <td>168.85</td>\n",
       "      <td>172.1200</td>\n",
       "      <td>166.3700</td>\n",
       "      <td>168.29</td>\n",
       "      <td>109815725.0</td>\n",
       "    </tr>\n",
       "    <tr>\n",
       "      <th>3481</th>\n",
       "      <td>188.42</td>\n",
       "      <td>198.8700</td>\n",
       "      <td>184.5400</td>\n",
       "      <td>194.05</td>\n",
       "      <td>243869678.0</td>\n",
       "    </tr>\n",
       "    <tr>\n",
       "      <th>3482</th>\n",
       "      <td>186.98</td>\n",
       "      <td>190.9500</td>\n",
       "      <td>182.8401</td>\n",
       "      <td>183.28</td>\n",
       "      <td>127031787.0</td>\n",
       "    </tr>\n",
       "    <tr>\n",
       "      <th>3483</th>\n",
       "      <td>182.00</td>\n",
       "      <td>185.8600</td>\n",
       "      <td>179.0100</td>\n",
       "      <td>179.99</td>\n",
       "      <td>92829719.0</td>\n",
       "    </tr>\n",
       "    <tr>\n",
       "      <th>3484</th>\n",
       "      <td>182.86</td>\n",
       "      <td>184.6000</td>\n",
       "      <td>176.0200</td>\n",
       "      <td>180.01</td>\n",
       "      <td>89148041.0</td>\n",
       "    </tr>\n",
       "  </tbody>\n",
       "</table>\n",
       "<p>3485 rows × 5 columns</p>\n",
       "</div>"
      ],
      "text/plain": [
       "      1. open   2. high    3. low  4. close    5. volume\n",
       "0       19.00   25.0000   17.5400     23.89   18766300.0\n",
       "1       25.79   30.4192   23.3000     23.83   17187100.0\n",
       "2       25.00   25.9200   20.2700     21.96    8218800.0\n",
       "3       23.00   23.1000   18.7100     19.20    5139800.0\n",
       "4       20.00   20.0000   15.8300     16.11    6866900.0\n",
       "...       ...       ...       ...       ...          ...\n",
       "3480   168.85  172.1200  166.3700    168.29  109815725.0\n",
       "3481   188.42  198.8700  184.5400    194.05  243869678.0\n",
       "3482   186.98  190.9500  182.8401    183.28  127031787.0\n",
       "3483   182.00  185.8600  179.0100    179.99   92829719.0\n",
       "3484   182.86  184.6000  176.0200    180.01   89148041.0\n",
       "\n",
       "[3485 rows x 5 columns]"
      ]
     },
     "execution_count": 33,
     "metadata": {},
     "output_type": "execute_result"
    }
   ],
   "source": [
    "flipped_df2 = df3[::-1].reset_index(drop=True)\n",
    "flipped_df2"
   ]
  },
  {
   "cell_type": "code",
   "execution_count": 34,
   "metadata": {},
   "outputs": [],
   "source": [
    "# Extract the 'close' column\n",
    "close_column = flipped_df2['4. close']"
   ]
  },
  {
   "cell_type": "code",
   "execution_count": 35,
   "metadata": {},
   "outputs": [
    {
     "name": "stdout",
     "output_type": "stream",
     "text": [
      "       close\n",
      "0      23.89\n",
      "1      23.83\n",
      "2      21.96\n",
      "3      19.20\n",
      "4      16.11\n",
      "...      ...\n",
      "3480  168.29\n",
      "3481  194.05\n",
      "3482  183.28\n",
      "3483  179.99\n",
      "3484  180.01\n",
      "\n",
      "[3485 rows x 1 columns]\n"
     ]
    }
   ],
   "source": [
    "# Create a new DataFrame with the filtered 'close' column\n",
    "new_df = pd.DataFrame({'close': close_column})\n",
    "print(new_df)"
   ]
  },
  {
   "cell_type": "code",
   "execution_count": 36,
   "metadata": {},
   "outputs": [
    {
     "name": "stdout",
     "output_type": "stream",
     "text": [
      "\u001b[1m1/1\u001b[0m \u001b[32m━━━━━━━━━━━━━━━━━━━━\u001b[0m\u001b[37m\u001b[0m \u001b[1m0s\u001b[0m 345ms/step\n",
      "[[206.35516]]\n"
     ]
    }
   ],
   "source": [
    "last_60_day = new_df[-60:].values\n",
    "last_60_day_scaled = scaler.transform(last_60_day)\n",
    "#create emplty list \n",
    "x_test = []\n",
    "x_test.append(last_60_day_scaled)\n",
    "x_test = np.array(x_test)\n",
    "x_test = np.reshape(x_test, (x_test.shape[0], x_test.shape[1],1))\n",
    "pred_price= model.predict(x_test)\n",
    "pred_price = scaler.inverse_transform(pred_price)\n",
    "print(pred_price)"
   ]
  }
 ],
 "metadata": {
  "kernelspec": {
   "display_name": "Python 3",
   "language": "python",
   "name": "python3"
  },
  "language_info": {
   "codemirror_mode": {
    "name": "ipython",
    "version": 3
   },
   "file_extension": ".py",
   "mimetype": "text/x-python",
   "name": "python",
   "nbconvert_exporter": "python",
   "pygments_lexer": "ipython3",
   "version": "3.11.4"
  }
 },
 "nbformat": 4,
 "nbformat_minor": 2
}
